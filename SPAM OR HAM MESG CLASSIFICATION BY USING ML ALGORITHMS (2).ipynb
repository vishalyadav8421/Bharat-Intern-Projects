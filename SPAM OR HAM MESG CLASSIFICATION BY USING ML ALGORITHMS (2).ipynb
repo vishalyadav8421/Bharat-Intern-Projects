{
 "cells": [
  {
   "cell_type": "markdown",
   "id": "923a72a9",
   "metadata": {},
   "source": [
    "# SPAM OR HAM MESSAGE CLASSIFICATION BY USING MACHINE LEARNING ALGORITHMS \n",
    ".....vishal yadav"
   ]
  },
  {
   "cell_type": "markdown",
   "id": "f28a3456",
   "metadata": {},
   "source": [
    "# <img src=\"https://miro.medium.com/v2/resize:fit:1105/1*nBgCTU_hAVG00eYkcRf6Mw.png\" width=750 height=200 />"
   ]
  },
  {
   "cell_type": "markdown",
   "id": "1860fa49",
   "metadata": {},
   "source": [
    "# CONTENTS :\n",
    "\n",
    "1. READING THE DATA\n",
    "2. EXPLORATORY DATA ANALYSIS\n",
    "       2.1 VISUALIZE DATASET\n",
    "       2.2 DATA VISUALIZATION\n",
    "       2.3 ADDING A NEW COLUMN LENGTH IN DATASET\n",
    "3. CREATE TESTING AND TRAINING DATASET / DATA CLEANING\n",
    "       3.1 REMOVE PUNCTUATION    \n",
    "       3.2 REMOVE STOPWORDS\n",
    "       3.3 COUNT VECTORIZER EXAMPLE\n",
    "4. USING PIPELINE FOR APPLICATION\n",
    "       4.1 APPLYING THE PREVIOUSLY THREE PROCESS TO OUR SPAM OR HAM EXAMPLES    \n",
    "5. APPLYING COUNT VECTORIZER TO OUR MESSAGE LIST    \n",
    "6. TRAINING THE MODEL WITH ALL DATASET\n",
    "       6.1 USING NAIVE BAYES MULTINOMIALNB METHOD\n",
    "7. DIVIDEING THE DATA INTO TRAINING AND TESTING PRIOR TO TRAINING       \n",
    "8. EVALUATING THE MODEL       \n",
    "       8.1 PREDECTING DATA ON TRAIN DATA BY USING CONFUSION MATRIX   \n",
    "       8.2 PREDECTING DATA ON TEST DATA BY USING CONFUSION MATRIX\n",
    "9. LET'S ADD ADDITIONAL FEATURE TF-IDF       \n",
    "10. MODEL TRAINING BY USING MACHINE LEARNING ALGORITHM       \n",
    "        10.1 - Finding the Accuracy of data by using Logistic Regression\n",
    "        10.2 - Finding the Accuracy of data by using Decission Tree Classifier\n",
    "        10.3 - Finding the Accuracy of data by using Random Forest Classifier\n",
    "        10.4 - Finding the Accuracy of data by using Encemble Learning - Ada Boost Classifier\n",
    "        10.5 - Predicting by using Naive Bayes classifier\n",
    "       "
   ]
  },
  {
   "cell_type": "markdown",
   "id": "cc8a802e",
   "metadata": {},
   "source": [
    "## **INTRODUCTION** :\n",
    "\n",
    "The exponential growth of digital communication has led to an increase in the volume of spam messages, posing a significant challenge to effective communication. Spam messages not only clutter inboxes but also pose security risks and can lead to phishing attacks and malware distribution. In response to this issue, the development of efficient spam filters has become crucial to distinguish legitimate messages (ham) from unwanted spam messages.\n",
    "\n",
    "## **OBJECTIVES**:\n",
    "\n",
    "Develop a robust machine learning classifier capable of accurately distinguishing spam from ham messages. Enhance communication efficiency by filtering out spam messages, ensuring users receive only relevant messages. Minimize security risks associated with spam, such as phishing attacks and malware distribution."
   ]
  },
  {
   "cell_type": "markdown",
   "id": "4ad2672b",
   "metadata": {},
   "source": [
    "##  **Methodology**:\n",
    "1. **Data Collection**: Gather a diverse dataset containing labeled examples of spam and ham messages.\n",
    "2. **Data Preprocessing**: Clean and transform the text data, removing stopwords and handling special characters.\n",
    "3. **Feature Extraction**: Convert textual data into numerical features using techniques like Bag-of-Words or TF-IDF.\n",
    "4. **Model Selection**: Experiment with various machine learning algorithms such as Naive Bayes, SVM, and Random Forests to identify the best-performing model.\n",
    "5. **Model Training and Evaluation**: Train the selected model on preprocessed data and evaluate its performance using metrics like accuracy and F1-score.\n",
    "6. **Hyperparameter Tuning**: Fine-tune the model's hyperparameters to optimize performance using techniques like GridSearchCV.\n",
    "7. **Cross-Validation**: Perform cross-validation to assess the model's generalization performance across different data subsets.\n",
    "8. **Deployment**: Deploy the trained classifier in a real-world environment to classify incoming messages in real-time.\n"
   ]
  },
  {
   "cell_type": "markdown",
   "id": "2516b54e",
   "metadata": {},
   "source": [
    "## PROBLEM STATEMENT\n",
    "The SMS Spam Collection is a set of SMS tagged messages that have been collected for SMS Spam research. It contains one set of SMS messages in English of 5,574 messages, tagged acording being ham (legitimate) or spam.\n",
    "\n",
    "The files contain one message per line. Each line is composed by two columns: type contains the label (ham or spam) and text contains the raw text."
   ]
  },
  {
   "cell_type": "code",
   "execution_count": 1,
   "id": "30f056b3",
   "metadata": {},
   "outputs": [
    {
     "data": {
      "text/plain": [
       "'C:\\\\Users\\\\admin\\\\Downloads'"
      ]
     },
     "execution_count": 1,
     "metadata": {},
     "output_type": "execute_result"
    }
   ],
   "source": [
    "#for checking our current working directory in which we working\n",
    "import os\n",
    "os.getcwd()"
   ]
  },
  {
   "cell_type": "markdown",
   "id": "3f0b7ff0",
   "metadata": {},
   "source": [
    "#### IMPORTING LIBRARIES"
   ]
  },
  {
   "cell_type": "code",
   "execution_count": 2,
   "id": "3d8f938f",
   "metadata": {},
   "outputs": [],
   "source": [
    "# importing required library\n",
    "import pandas as pd\n",
    "import numpy as np\n",
    "import matplotlib.pyplot as plt\n",
    "import seaborn as sns\n",
    "from sklearn.model_selection import train_test_split\n",
    "from sklearn.ensemble import RandomForestClassifier\n",
    "from sklearn.feature_extraction.text import CountVectorizer\n",
    "from sklearn.naive_bayes import MultinomialNB\n",
    "from sklearn.metrics import accuracy_score, classification_report\n",
    "import warnings \n",
    "warnings.filterwarnings('ignore')"
   ]
  },
  {
   "cell_type": "markdown",
   "id": "f0d695e4",
   "metadata": {},
   "source": [
    "#  1. READING THE DATA"
   ]
  },
  {
   "cell_type": "code",
   "execution_count": 3,
   "id": "ff59ec30",
   "metadata": {},
   "outputs": [
    {
     "data": {
      "text/html": [
       "<div>\n",
       "<style scoped>\n",
       "    .dataframe tbody tr th:only-of-type {\n",
       "        vertical-align: middle;\n",
       "    }\n",
       "\n",
       "    .dataframe tbody tr th {\n",
       "        vertical-align: top;\n",
       "    }\n",
       "\n",
       "    .dataframe thead th {\n",
       "        text-align: right;\n",
       "    }\n",
       "</style>\n",
       "<table border=\"1\" class=\"dataframe\">\n",
       "  <thead>\n",
       "    <tr style=\"text-align: right;\">\n",
       "      <th></th>\n",
       "      <th>type</th>\n",
       "      <th>text</th>\n",
       "    </tr>\n",
       "  </thead>\n",
       "  <tbody>\n",
       "    <tr>\n",
       "      <th>0</th>\n",
       "      <td>ham</td>\n",
       "      <td>Go until jurong point, crazy.. Available only ...</td>\n",
       "    </tr>\n",
       "    <tr>\n",
       "      <th>1</th>\n",
       "      <td>ham</td>\n",
       "      <td>Ok lar... Joking wif u oni...</td>\n",
       "    </tr>\n",
       "    <tr>\n",
       "      <th>2</th>\n",
       "      <td>spam</td>\n",
       "      <td>Free entry in 2 a wkly comp to win FA Cup fina...</td>\n",
       "    </tr>\n",
       "    <tr>\n",
       "      <th>3</th>\n",
       "      <td>ham</td>\n",
       "      <td>U dun say so early hor... U c already then say...</td>\n",
       "    </tr>\n",
       "    <tr>\n",
       "      <th>4</th>\n",
       "      <td>ham</td>\n",
       "      <td>Nah I don't think he goes to usf, he lives aro...</td>\n",
       "    </tr>\n",
       "    <tr>\n",
       "      <th>...</th>\n",
       "      <td>...</td>\n",
       "      <td>...</td>\n",
       "    </tr>\n",
       "    <tr>\n",
       "      <th>5569</th>\n",
       "      <td>spam</td>\n",
       "      <td>This is the 2nd time we have tried 2 contact u...</td>\n",
       "    </tr>\n",
       "    <tr>\n",
       "      <th>5570</th>\n",
       "      <td>ham</td>\n",
       "      <td>Will ü b going to esplanade fr home?</td>\n",
       "    </tr>\n",
       "    <tr>\n",
       "      <th>5571</th>\n",
       "      <td>ham</td>\n",
       "      <td>Pity, * was in mood for that. So...any other s...</td>\n",
       "    </tr>\n",
       "    <tr>\n",
       "      <th>5572</th>\n",
       "      <td>ham</td>\n",
       "      <td>The guy did some bitching but I acted like i'd...</td>\n",
       "    </tr>\n",
       "    <tr>\n",
       "      <th>5573</th>\n",
       "      <td>ham</td>\n",
       "      <td>Rofl. Its true to its name</td>\n",
       "    </tr>\n",
       "  </tbody>\n",
       "</table>\n",
       "<p>5574 rows × 2 columns</p>\n",
       "</div>"
      ],
      "text/plain": [
       "      type                                               text\n",
       "0      ham  Go until jurong point, crazy.. Available only ...\n",
       "1      ham                      Ok lar... Joking wif u oni...\n",
       "2     spam  Free entry in 2 a wkly comp to win FA Cup fina...\n",
       "3      ham  U dun say so early hor... U c already then say...\n",
       "4      ham  Nah I don't think he goes to usf, he lives aro...\n",
       "...    ...                                                ...\n",
       "5569  spam  This is the 2nd time we have tried 2 contact u...\n",
       "5570   ham               Will ü b going to esplanade fr home?\n",
       "5571   ham  Pity, * was in mood for that. So...any other s...\n",
       "5572   ham  The guy did some bitching but I acted like i'd...\n",
       "5573   ham                         Rofl. Its true to its name\n",
       "\n",
       "[5574 rows x 2 columns]"
      ]
     },
     "execution_count": 3,
     "metadata": {},
     "output_type": "execute_result"
    }
   ],
   "source": [
    "# reading the csv file\n",
    "df=pd.read_csv(r'sms_spam.csv')\n",
    "df"
   ]
  },
  {
   "cell_type": "markdown",
   "id": "b80df1db",
   "metadata": {},
   "source": [
    "# 2. EXPLORATORY DATA ANALYSIS "
   ]
  },
  {
   "cell_type": "code",
   "execution_count": 4,
   "id": "3f9cecbb",
   "metadata": {},
   "outputs": [
    {
     "name": "stdout",
     "output_type": "stream",
     "text": [
      "<class 'pandas.core.frame.DataFrame'>\n",
      "RangeIndex: 5574 entries, 0 to 5573\n",
      "Data columns (total 2 columns):\n",
      " #   Column  Non-Null Count  Dtype \n",
      "---  ------  --------------  ----- \n",
      " 0   type    5574 non-null   object\n",
      " 1   text    5574 non-null   object\n",
      "dtypes: object(2)\n",
      "memory usage: 87.2+ KB\n"
     ]
    }
   ],
   "source": [
    "# for information of columns names dtype and for counts of null objects\n",
    "df.info()"
   ]
  },
  {
   "cell_type": "code",
   "execution_count": 5,
   "id": "11b9ff51",
   "metadata": {},
   "outputs": [
    {
     "data": {
      "text/html": [
       "<div>\n",
       "<style scoped>\n",
       "    .dataframe tbody tr th:only-of-type {\n",
       "        vertical-align: middle;\n",
       "    }\n",
       "\n",
       "    .dataframe tbody tr th {\n",
       "        vertical-align: top;\n",
       "    }\n",
       "\n",
       "    .dataframe thead th {\n",
       "        text-align: right;\n",
       "    }\n",
       "</style>\n",
       "<table border=\"1\" class=\"dataframe\">\n",
       "  <thead>\n",
       "    <tr style=\"text-align: right;\">\n",
       "      <th></th>\n",
       "      <th>type</th>\n",
       "      <th>text</th>\n",
       "    </tr>\n",
       "  </thead>\n",
       "  <tbody>\n",
       "    <tr>\n",
       "      <th>0</th>\n",
       "      <td>ham</td>\n",
       "      <td>Go until jurong point, crazy.. Available only ...</td>\n",
       "    </tr>\n",
       "    <tr>\n",
       "      <th>1</th>\n",
       "      <td>ham</td>\n",
       "      <td>Ok lar... Joking wif u oni...</td>\n",
       "    </tr>\n",
       "    <tr>\n",
       "      <th>2</th>\n",
       "      <td>spam</td>\n",
       "      <td>Free entry in 2 a wkly comp to win FA Cup fina...</td>\n",
       "    </tr>\n",
       "    <tr>\n",
       "      <th>3</th>\n",
       "      <td>ham</td>\n",
       "      <td>U dun say so early hor... U c already then say...</td>\n",
       "    </tr>\n",
       "    <tr>\n",
       "      <th>4</th>\n",
       "      <td>ham</td>\n",
       "      <td>Nah I don't think he goes to usf, he lives aro...</td>\n",
       "    </tr>\n",
       "  </tbody>\n",
       "</table>\n",
       "</div>"
      ],
      "text/plain": [
       "   type                                               text\n",
       "0   ham  Go until jurong point, crazy.. Available only ...\n",
       "1   ham                      Ok lar... Joking wif u oni...\n",
       "2  spam  Free entry in 2 a wkly comp to win FA Cup fina...\n",
       "3   ham  U dun say so early hor... U c already then say...\n",
       "4   ham  Nah I don't think he goes to usf, he lives aro..."
      ]
     },
     "execution_count": 5,
     "metadata": {},
     "output_type": "execute_result"
    }
   ],
   "source": [
    "# for above 5 rows\n",
    "df.head()"
   ]
  },
  {
   "cell_type": "code",
   "execution_count": 6,
   "id": "48467ba3",
   "metadata": {},
   "outputs": [
    {
     "data": {
      "text/html": [
       "<div>\n",
       "<style scoped>\n",
       "    .dataframe tbody tr th:only-of-type {\n",
       "        vertical-align: middle;\n",
       "    }\n",
       "\n",
       "    .dataframe tbody tr th {\n",
       "        vertical-align: top;\n",
       "    }\n",
       "\n",
       "    .dataframe thead th {\n",
       "        text-align: right;\n",
       "    }\n",
       "</style>\n",
       "<table border=\"1\" class=\"dataframe\">\n",
       "  <thead>\n",
       "    <tr style=\"text-align: right;\">\n",
       "      <th></th>\n",
       "      <th>type</th>\n",
       "      <th>text</th>\n",
       "    </tr>\n",
       "  </thead>\n",
       "  <tbody>\n",
       "    <tr>\n",
       "      <th>5569</th>\n",
       "      <td>spam</td>\n",
       "      <td>This is the 2nd time we have tried 2 contact u...</td>\n",
       "    </tr>\n",
       "    <tr>\n",
       "      <th>5570</th>\n",
       "      <td>ham</td>\n",
       "      <td>Will ü b going to esplanade fr home?</td>\n",
       "    </tr>\n",
       "    <tr>\n",
       "      <th>5571</th>\n",
       "      <td>ham</td>\n",
       "      <td>Pity, * was in mood for that. So...any other s...</td>\n",
       "    </tr>\n",
       "    <tr>\n",
       "      <th>5572</th>\n",
       "      <td>ham</td>\n",
       "      <td>The guy did some bitching but I acted like i'd...</td>\n",
       "    </tr>\n",
       "    <tr>\n",
       "      <th>5573</th>\n",
       "      <td>ham</td>\n",
       "      <td>Rofl. Its true to its name</td>\n",
       "    </tr>\n",
       "  </tbody>\n",
       "</table>\n",
       "</div>"
      ],
      "text/plain": [
       "      type                                               text\n",
       "5569  spam  This is the 2nd time we have tried 2 contact u...\n",
       "5570   ham               Will ü b going to esplanade fr home?\n",
       "5571   ham  Pity, * was in mood for that. So...any other s...\n",
       "5572   ham  The guy did some bitching but I acted like i'd...\n",
       "5573   ham                         Rofl. Its true to its name"
      ]
     },
     "execution_count": 6,
     "metadata": {},
     "output_type": "execute_result"
    }
   ],
   "source": [
    "# fr belows 5 rows\n",
    "df.tail()"
   ]
  },
  {
   "cell_type": "code",
   "execution_count": 7,
   "id": "c7d9ec7c",
   "metadata": {},
   "outputs": [
    {
     "data": {
      "text/html": [
       "<div>\n",
       "<style scoped>\n",
       "    .dataframe tbody tr th:only-of-type {\n",
       "        vertical-align: middle;\n",
       "    }\n",
       "\n",
       "    .dataframe tbody tr th {\n",
       "        vertical-align: top;\n",
       "    }\n",
       "\n",
       "    .dataframe thead th {\n",
       "        text-align: right;\n",
       "    }\n",
       "</style>\n",
       "<table border=\"1\" class=\"dataframe\">\n",
       "  <thead>\n",
       "    <tr style=\"text-align: right;\">\n",
       "      <th></th>\n",
       "      <th>type</th>\n",
       "      <th>text</th>\n",
       "    </tr>\n",
       "  </thead>\n",
       "  <tbody>\n",
       "    <tr>\n",
       "      <th>count</th>\n",
       "      <td>5574</td>\n",
       "      <td>5574</td>\n",
       "    </tr>\n",
       "    <tr>\n",
       "      <th>unique</th>\n",
       "      <td>2</td>\n",
       "      <td>5160</td>\n",
       "    </tr>\n",
       "    <tr>\n",
       "      <th>top</th>\n",
       "      <td>ham</td>\n",
       "      <td>Sorry, I'll call later</td>\n",
       "    </tr>\n",
       "    <tr>\n",
       "      <th>freq</th>\n",
       "      <td>4827</td>\n",
       "      <td>30</td>\n",
       "    </tr>\n",
       "  </tbody>\n",
       "</table>\n",
       "</div>"
      ],
      "text/plain": [
       "        type                    text\n",
       "count   5574                    5574\n",
       "unique     2                    5160\n",
       "top      ham  Sorry, I'll call later\n",
       "freq    4827                      30"
      ]
     },
     "execution_count": 7,
     "metadata": {},
     "output_type": "execute_result"
    }
   ],
   "source": [
    "#for stastical values\n",
    "df.describe()"
   ]
  },
  {
   "cell_type": "code",
   "execution_count": 8,
   "id": "5adc6c96",
   "metadata": {},
   "outputs": [
    {
     "data": {
      "text/plain": [
       "type    0\n",
       "text    0\n",
       "dtype: int64"
      ]
     },
     "execution_count": 8,
     "metadata": {},
     "output_type": "execute_result"
    }
   ],
   "source": [
    "#checking the null values presented in our dataset\n",
    "df.isnull().sum()"
   ]
  },
  {
   "cell_type": "markdown",
   "id": "f2e74ab0",
   "metadata": {},
   "source": [
    "### 2.1 VISUALIZE DATASET"
   ]
  },
  {
   "cell_type": "code",
   "execution_count": 9,
   "id": "164b4f05",
   "metadata": {
    "scrolled": true
   },
   "outputs": [
    {
     "data": {
      "text/html": [
       "<div>\n",
       "<style scoped>\n",
       "    .dataframe tbody tr th:only-of-type {\n",
       "        vertical-align: middle;\n",
       "    }\n",
       "\n",
       "    .dataframe tbody tr th {\n",
       "        vertical-align: top;\n",
       "    }\n",
       "\n",
       "    .dataframe thead tr th {\n",
       "        text-align: left;\n",
       "    }\n",
       "\n",
       "    .dataframe thead tr:last-of-type th {\n",
       "        text-align: right;\n",
       "    }\n",
       "</style>\n",
       "<table border=\"1\" class=\"dataframe\">\n",
       "  <thead>\n",
       "    <tr>\n",
       "      <th></th>\n",
       "      <th colspan=\"4\" halign=\"left\">text</th>\n",
       "    </tr>\n",
       "    <tr>\n",
       "      <th></th>\n",
       "      <th>count</th>\n",
       "      <th>unique</th>\n",
       "      <th>top</th>\n",
       "      <th>freq</th>\n",
       "    </tr>\n",
       "    <tr>\n",
       "      <th>type</th>\n",
       "      <th></th>\n",
       "      <th></th>\n",
       "      <th></th>\n",
       "      <th></th>\n",
       "    </tr>\n",
       "  </thead>\n",
       "  <tbody>\n",
       "    <tr>\n",
       "      <th>ham</th>\n",
       "      <td>4827</td>\n",
       "      <td>4518</td>\n",
       "      <td>Sorry, I'll call later</td>\n",
       "      <td>30</td>\n",
       "    </tr>\n",
       "    <tr>\n",
       "      <th>spam</th>\n",
       "      <td>747</td>\n",
       "      <td>642</td>\n",
       "      <td>Please call our customer service representativ...</td>\n",
       "      <td>4</td>\n",
       "    </tr>\n",
       "  </tbody>\n",
       "</table>\n",
       "</div>"
      ],
      "text/plain": [
       "      text                                                               \n",
       "     count unique                                                top freq\n",
       "type                                                                     \n",
       "ham   4827   4518                             Sorry, I'll call later   30\n",
       "spam   747    642  Please call our customer service representativ...    4"
      ]
     },
     "execution_count": 9,
     "metadata": {},
     "output_type": "execute_result"
    }
   ],
   "source": [
    "# Let's see which message is the most popular ham/spam message\n",
    "df.groupby('type').describe()"
   ]
  },
  {
   "cell_type": "markdown",
   "id": "e7c0ab38",
   "metadata": {},
   "source": [
    "##### DATA IS CLEARED NO WE ABLE TO DO FURTHER PROCESS"
   ]
  },
  {
   "cell_type": "markdown",
   "id": "eb1c55d3",
   "metadata": {},
   "source": [
    "### 2.2 DATA VISUALIZATION"
   ]
  },
  {
   "cell_type": "code",
   "execution_count": 10,
   "id": "ed1146d3",
   "metadata": {},
   "outputs": [
    {
     "data": {
      "image/png": "[encoded data removed]",
      "text/plain": [
       "<Figure size 288x288 with 1 Axes>"
      ]
     },
     "metadata": {
      "needs_background": "light"
     },
     "output_type": "display_data"
    }
   ],
   "source": [
    "plt.figure(figsize = (4,4))\n",
    "sns.countplot(x =\"type\", data = df, hue =\"type\")\n",
    "plt.title(\"No. of SMS\")\n",
    "plt.show()"
   ]
  },
  {
   "cell_type": "code",
   "execution_count": 11,
   "id": "ed60fb90",
   "metadata": {},
   "outputs": [
    {
     "data": {
      "text/plain": [
       "Sorry, I'll call later                                                                                                                                      30\n",
       "I cant pick the phone right now. Pls send a message                                                                                                         12\n",
       "Ok...                                                                                                                                                       10\n",
       "Ok                                                                                                                                                           4\n",
       "Ok.                                                                                                                                                          4\n",
       "                                                                                                                                                            ..\n",
       "I gotta collect da car at 6 lei.                                                                                                                             1\n",
       "No. On the way home. So if not for the long dry spell the season would have been over                                                                        1\n",
       "Urgent! Please call 09061743811 from landline. Your ABTA complimentary 4* Tenerife Holiday or £5000 cash await collection SAE T&Cs Box 326 CW25WX 150ppm     1\n",
       "I think asking for a gym is the excuse for lazy people. I jog.                                                                                               1\n",
       "Rofl. Its true to its name                                                                                                                                   1\n",
       "Name: text, Length: 5160, dtype: int64"
      ]
     },
     "execution_count": 11,
     "metadata": {},
     "output_type": "execute_result"
    }
   ],
   "source": [
    "df[\"text\"].value_counts()"
   ]
  },
  {
   "cell_type": "code",
   "execution_count": 12,
   "id": "f90fb708",
   "metadata": {},
   "outputs": [
    {
     "data": {
      "image/png": "[encoded data removed]",
      "text/plain": [
       "<Figure size 432x432 with 1 Axes>"
      ]
     },
     "metadata": {},
     "output_type": "display_data"
    }
   ],
   "source": [
    "df[\"type\"].value_counts().plot(kind = 'pie',explode=[0, 0.1],figsize=(6, 6),autopct='%1.1f%%',shadow=True)\n",
    "plt.title(\"Spam vs Ham\")\n",
    "plt.legend([\"Ham\", \"Spam\"])\n",
    "plt.show()"
   ]
  },
  {
   "cell_type": "markdown",
   "id": "607f57d3",
   "metadata": {},
   "source": [
    "##### A lot of messages are actually not spam. About 86% of our dataset consists of normal messages"
   ]
  },
  {
   "cell_type": "markdown",
   "id": "d42503d5",
   "metadata": {},
   "source": [
    "### 2.3 ADDING A NEW COLUMN LENGTH IN DATASET "
   ]
  },
  {
   "cell_type": "code",
   "execution_count": 13,
   "id": "75b1367c",
   "metadata": {},
   "outputs": [
    {
     "data": {
      "text/html": [
       "<div>\n",
       "<style scoped>\n",
       "    .dataframe tbody tr th:only-of-type {\n",
       "        vertical-align: middle;\n",
       "    }\n",
       "\n",
       "    .dataframe tbody tr th {\n",
       "        vertical-align: top;\n",
       "    }\n",
       "\n",
       "    .dataframe thead th {\n",
       "        text-align: right;\n",
       "    }\n",
       "</style>\n",
       "<table border=\"1\" class=\"dataframe\">\n",
       "  <thead>\n",
       "    <tr style=\"text-align: right;\">\n",
       "      <th></th>\n",
       "      <th>type</th>\n",
       "      <th>text</th>\n",
       "      <th>length</th>\n",
       "    </tr>\n",
       "  </thead>\n",
       "  <tbody>\n",
       "    <tr>\n",
       "      <th>0</th>\n",
       "      <td>ham</td>\n",
       "      <td>Go until jurong point, crazy.. Available only ...</td>\n",
       "      <td>111</td>\n",
       "    </tr>\n",
       "    <tr>\n",
       "      <th>1</th>\n",
       "      <td>ham</td>\n",
       "      <td>Ok lar... Joking wif u oni...</td>\n",
       "      <td>29</td>\n",
       "    </tr>\n",
       "    <tr>\n",
       "      <th>2</th>\n",
       "      <td>spam</td>\n",
       "      <td>Free entry in 2 a wkly comp to win FA Cup fina...</td>\n",
       "      <td>155</td>\n",
       "    </tr>\n",
       "    <tr>\n",
       "      <th>3</th>\n",
       "      <td>ham</td>\n",
       "      <td>U dun say so early hor... U c already then say...</td>\n",
       "      <td>49</td>\n",
       "    </tr>\n",
       "    <tr>\n",
       "      <th>4</th>\n",
       "      <td>ham</td>\n",
       "      <td>Nah I don't think he goes to usf, he lives aro...</td>\n",
       "      <td>61</td>\n",
       "    </tr>\n",
       "  </tbody>\n",
       "</table>\n",
       "</div>"
      ],
      "text/plain": [
       "   type                                               text  length\n",
       "0   ham  Go until jurong point, crazy.. Available only ...     111\n",
       "1   ham                      Ok lar... Joking wif u oni...      29\n",
       "2  spam  Free entry in 2 a wkly comp to win FA Cup fina...     155\n",
       "3   ham  U dun say so early hor... U c already then say...      49\n",
       "4   ham  Nah I don't think he goes to usf, he lives aro...      61"
      ]
     },
     "execution_count": 13,
     "metadata": {},
     "output_type": "execute_result"
    }
   ],
   "source": [
    "# Let's get the length of the messages\n",
    "df['length'] = df['text'].apply(len)\n",
    "df.head()"
   ]
  },
  {
   "cell_type": "code",
   "execution_count": 14,
   "id": "a9af210a",
   "metadata": {},
   "outputs": [
    {
     "data": {
      "text/plain": [
       "<AxesSubplot:ylabel='Frequency'>"
      ]
     },
     "execution_count": 14,
     "metadata": {},
     "output_type": "execute_result"
    },
    {
     "data": {
      "image/png": "[encoded data removed]",
      "text/plain": [
       "<Figure size 432x288 with 1 Axes>"
      ]
     },
     "metadata": {
      "needs_background": "light"
     },
     "output_type": "display_data"
    }
   ],
   "source": [
    "df['length'].plot(bins=100, kind='hist')"
   ]
  },
  {
   "cell_type": "code",
   "execution_count": 15,
   "id": "e871b6f6",
   "metadata": {},
   "outputs": [
    {
     "data": {
      "text/plain": [
       "count    5574.000000\n",
       "mean       80.444923\n",
       "std        59.841828\n",
       "min         2.000000\n",
       "25%        36.000000\n",
       "50%        61.000000\n",
       "75%       122.000000\n",
       "max       910.000000\n",
       "Name: length, dtype: float64"
      ]
     },
     "execution_count": 15,
     "metadata": {},
     "output_type": "execute_result"
    }
   ],
   "source": [
    "df.length.describe()"
   ]
  },
  {
   "cell_type": "code",
   "execution_count": 16,
   "id": "6ab8f584",
   "metadata": {},
   "outputs": [
    {
     "data": {
      "text/plain": [
       "\"For me the love should start with attraction.i should feel that I need her every time around me.she should be the first thing which comes in my thoughts.I would start the day and end it with her.she should be there every time I dream.love will be then when my every breath has her name.my life should happen around her.my life will be named to her.I would cry for her.will give all my happiness and take all her sorrows.I will be ready to fight with anyone for her.I will be in love when I will be doing the craziest things for her.love will be when I don't have to proove anyone that my girl is the most beautiful lady on the whole planet.I will always be singing praises for her.love will be when I start up making chicken curry and end up makiing sambar.life will be the most beautiful then.will get every morning and thank god for the day because she is with me.I would like to say a lot..will tell later..\""
      ]
     },
     "execution_count": 16,
     "metadata": {},
     "output_type": "execute_result"
    }
   ],
   "source": [
    "# Let's see the longest message 43952\n",
    "df[df['length'] == 910]['text'].iloc[0]"
   ]
  },
  {
   "cell_type": "markdown",
   "id": "35eeae25",
   "metadata": {},
   "source": [
    "#### the above message was the longest message in our dataset"
   ]
  },
  {
   "cell_type": "code",
   "execution_count": 17,
   "id": "4435d6d5",
   "metadata": {},
   "outputs": [],
   "source": [
    "# Let seperate the data as ham and spam\n",
    "ham = df[df['type']=='ham']\n",
    "spam = df[df['type']=='spam']"
   ]
  },
  {
   "cell_type": "code",
   "execution_count": 18,
   "id": "412fec61",
   "metadata": {},
   "outputs": [
    {
     "data": {
      "text/html": [
       "<div>\n",
       "<style scoped>\n",
       "    .dataframe tbody tr th:only-of-type {\n",
       "        vertical-align: middle;\n",
       "    }\n",
       "\n",
       "    .dataframe tbody tr th {\n",
       "        vertical-align: top;\n",
       "    }\n",
       "\n",
       "    .dataframe thead th {\n",
       "        text-align: right;\n",
       "    }\n",
       "</style>\n",
       "<table border=\"1\" class=\"dataframe\">\n",
       "  <thead>\n",
       "    <tr style=\"text-align: right;\">\n",
       "      <th></th>\n",
       "      <th>type</th>\n",
       "      <th>text</th>\n",
       "      <th>length</th>\n",
       "    </tr>\n",
       "  </thead>\n",
       "  <tbody>\n",
       "    <tr>\n",
       "      <th>0</th>\n",
       "      <td>ham</td>\n",
       "      <td>Go until jurong point, crazy.. Available only ...</td>\n",
       "      <td>111</td>\n",
       "    </tr>\n",
       "    <tr>\n",
       "      <th>1</th>\n",
       "      <td>ham</td>\n",
       "      <td>Ok lar... Joking wif u oni...</td>\n",
       "      <td>29</td>\n",
       "    </tr>\n",
       "    <tr>\n",
       "      <th>3</th>\n",
       "      <td>ham</td>\n",
       "      <td>U dun say so early hor... U c already then say...</td>\n",
       "      <td>49</td>\n",
       "    </tr>\n",
       "    <tr>\n",
       "      <th>4</th>\n",
       "      <td>ham</td>\n",
       "      <td>Nah I don't think he goes to usf, he lives aro...</td>\n",
       "      <td>61</td>\n",
       "    </tr>\n",
       "    <tr>\n",
       "      <th>6</th>\n",
       "      <td>ham</td>\n",
       "      <td>Even my brother is not like to speak with me. ...</td>\n",
       "      <td>77</td>\n",
       "    </tr>\n",
       "  </tbody>\n",
       "</table>\n",
       "</div>"
      ],
      "text/plain": [
       "  type                                               text  length\n",
       "0  ham  Go until jurong point, crazy.. Available only ...     111\n",
       "1  ham                      Ok lar... Joking wif u oni...      29\n",
       "3  ham  U dun say so early hor... U c already then say...      49\n",
       "4  ham  Nah I don't think he goes to usf, he lives aro...      61\n",
       "6  ham  Even my brother is not like to speak with me. ...      77"
      ]
     },
     "execution_count": 18,
     "metadata": {},
     "output_type": "execute_result"
    }
   ],
   "source": [
    "ham.head()"
   ]
  },
  {
   "cell_type": "code",
   "execution_count": 19,
   "id": "efa76a35",
   "metadata": {},
   "outputs": [
    {
     "data": {
      "text/html": [
       "<div>\n",
       "<style scoped>\n",
       "    .dataframe tbody tr th:only-of-type {\n",
       "        vertical-align: middle;\n",
       "    }\n",
       "\n",
       "    .dataframe tbody tr th {\n",
       "        vertical-align: top;\n",
       "    }\n",
       "\n",
       "    .dataframe thead th {\n",
       "        text-align: right;\n",
       "    }\n",
       "</style>\n",
       "<table border=\"1\" class=\"dataframe\">\n",
       "  <thead>\n",
       "    <tr style=\"text-align: right;\">\n",
       "      <th></th>\n",
       "      <th>type</th>\n",
       "      <th>text</th>\n",
       "      <th>length</th>\n",
       "    </tr>\n",
       "  </thead>\n",
       "  <tbody>\n",
       "    <tr>\n",
       "      <th>2</th>\n",
       "      <td>spam</td>\n",
       "      <td>Free entry in 2 a wkly comp to win FA Cup fina...</td>\n",
       "      <td>155</td>\n",
       "    </tr>\n",
       "    <tr>\n",
       "      <th>5</th>\n",
       "      <td>spam</td>\n",
       "      <td>FreeMsg Hey there darling it's been 3 week's n...</td>\n",
       "      <td>147</td>\n",
       "    </tr>\n",
       "    <tr>\n",
       "      <th>8</th>\n",
       "      <td>spam</td>\n",
       "      <td>WINNER!! As a valued network customer you have...</td>\n",
       "      <td>157</td>\n",
       "    </tr>\n",
       "    <tr>\n",
       "      <th>9</th>\n",
       "      <td>spam</td>\n",
       "      <td>Had your mobile 11 months or more? U R entitle...</td>\n",
       "      <td>154</td>\n",
       "    </tr>\n",
       "    <tr>\n",
       "      <th>11</th>\n",
       "      <td>spam</td>\n",
       "      <td>SIX chances to win CASH! From 100 to 20,000 po...</td>\n",
       "      <td>136</td>\n",
       "    </tr>\n",
       "  </tbody>\n",
       "</table>\n",
       "</div>"
      ],
      "text/plain": [
       "    type                                               text  length\n",
       "2   spam  Free entry in 2 a wkly comp to win FA Cup fina...     155\n",
       "5   spam  FreeMsg Hey there darling it's been 3 week's n...     147\n",
       "8   spam  WINNER!! As a valued network customer you have...     157\n",
       "9   spam  Had your mobile 11 months or more? U R entitle...     154\n",
       "11  spam  SIX chances to win CASH! From 100 to 20,000 po...     136"
      ]
     },
     "execution_count": 19,
     "metadata": {},
     "output_type": "execute_result"
    }
   ],
   "source": [
    "spam.head()"
   ]
  },
  {
   "cell_type": "code",
   "execution_count": 20,
   "id": "a4bc726b",
   "metadata": {},
   "outputs": [
    {
     "data": {
      "text/plain": [
       "<AxesSubplot:ylabel='Frequency'>"
      ]
     },
     "execution_count": 20,
     "metadata": {},
     "output_type": "execute_result"
    },
    {
     "data": {
      "image/png": "[encoded data removed]",
      "text/plain": [
       "<Figure size 432x288 with 1 Axes>"
      ]
     },
     "metadata": {
      "needs_background": "light"
     },
     "output_type": "display_data"
    }
   ],
   "source": [
    "# Let visualize it by hist plot\n",
    "spam['length'].plot(bins=60, kind='hist') \n"
   ]
  },
  {
   "cell_type": "code",
   "execution_count": 21,
   "id": "e81b6d0c",
   "metadata": {},
   "outputs": [
    {
     "data": {
      "text/plain": [
       "<AxesSubplot:ylabel='Frequency'>"
      ]
     },
     "execution_count": 21,
     "metadata": {},
     "output_type": "execute_result"
    },
    {
     "data": {
      "image/png": "[encoded data removed]",
      "text/plain": [
       "<Figure size 432x288 with 1 Axes>"
      ]
     },
     "metadata": {
      "needs_background": "light"
     },
     "output_type": "display_data"
    }
   ],
   "source": [
    "ham['length'].plot(bins=60, kind='hist') "
   ]
  },
  {
   "cell_type": "code",
   "execution_count": 22,
   "id": "9a792cb5",
   "metadata": {},
   "outputs": [
    {
     "name": "stdout",
     "output_type": "stream",
     "text": [
      "Spam percentage = 13.40150699677072 %\n",
      "Ham percentage = 86.59849300322928 %\n"
     ]
    }
   ],
   "source": [
    "# let see the percentage wise distribution of ham and spam in dataframe\n",
    "print( 'Spam percentage =', (len(spam) / len(df) )*100,\"%\")\n",
    "print( 'Ham percentage =', (len(ham) / len(df) )*100,\"%\")"
   ]
  },
  {
   "cell_type": "markdown",
   "id": "32790586",
   "metadata": {},
   "source": [
    "### IN OUR DATASET Ham MESSAGES IS 86.5%  WHICH IS VERY LARGE AMOUNT"
   ]
  },
  {
   "cell_type": "markdown",
   "id": "79bb9ef8",
   "metadata": {},
   "source": [
    "# 3. CREATE TESTING AND TRAINING DATASET / DATA CLEANING"
   ]
  },
  {
   "cell_type": "markdown",
   "id": "fd400976",
   "metadata": {},
   "source": [
    "### 3.1 REMOVE PUNCTUATION"
   ]
  },
  {
   "cell_type": "code",
   "execution_count": 23,
   "id": "d2f6ebbf",
   "metadata": {},
   "outputs": [
    {
     "data": {
      "text/plain": [
       "'!\"#$%&\\'()*+,-./:;<=>?@[\\\\]^_`{|}~'"
      ]
     },
     "execution_count": 23,
     "metadata": {},
     "output_type": "execute_result"
    }
   ],
   "source": [
    "# importing string punctuation\n",
    "import string\n",
    "string.punctuation"
   ]
  },
  {
   "cell_type": "code",
   "execution_count": 24,
   "id": "b8d73533",
   "metadata": {},
   "outputs": [],
   "source": [
    "# Lets test the data by some value before using it\n",
    "text='Hello Mr. Future, I am a beginner learner in a field of Machine Learning now!'"
   ]
  },
  {
   "cell_type": "code",
   "execution_count": 25,
   "id": "7197a097",
   "metadata": {},
   "outputs": [
    {
     "name": "stdout",
     "output_type": "stream",
     "text": [
      "['H', 'e', 'l', 'l', 'o', ' ', 'M', 'r', ' ', 'F', 'u', 't', 'u', 'r', 'e', ' ', 'I', ' ', 'a', 'm', ' ', 'a', ' ', 'b', 'e', 'g', 'i', 'n', 'n', 'e', 'r', ' ', 'l', 'e', 'a', 'r', 'n', 'e', 'r', ' ', 'i', 'n', ' ', 'a', ' ', 'f', 'i', 'e', 'l', 'd', ' ', 'o', 'f', ' ', 'M', 'a', 'c', 'h', 'i', 'n', 'e', ' ', 'L', 'e', 'a', 'r', 'n', 'i', 'n', 'g', ' ', 'n', 'o', 'w']\n"
     ]
    }
   ],
   "source": [
    "# let remove the punctuation from the text\n",
    "text_punc_removed=[char for char in text if char not in string.punctuation]\n",
    "print(text_punc_removed)"
   ]
  },
  {
   "cell_type": "code",
   "execution_count": 26,
   "id": "8c44feaa",
   "metadata": {},
   "outputs": [
    {
     "data": {
      "text/plain": [
       "'Hello Mr Future I am a beginner learner in a field of Machine Learning now'"
      ]
     },
     "execution_count": 26,
     "metadata": {},
     "output_type": "execute_result"
    }
   ],
   "source": [
    "# joining the character to make a sentence\n",
    "test_joined = ''.join(text_punc_removed)\n",
    "test_joined"
   ]
  },
  {
   "cell_type": "markdown",
   "id": "9899b565",
   "metadata": {},
   "source": [
    "#### AS WE SEE NOW ALL PUNCTUATION GET REMOVED SO WE USE IT NOW"
   ]
  },
  {
   "cell_type": "markdown",
   "id": "110049a8",
   "metadata": {},
   "source": [
    "### 3.2 REMOVE STOPWORDS"
   ]
  },
  {
   "cell_type": "code",
   "execution_count": 71,
   "id": "c6d14113",
   "metadata": {},
   "outputs": [
    {
     "name": "stdout",
     "output_type": "stream",
     "text": [
      "\n"
     ]
    },
    {
     "name": "stderr",
     "output_type": "stream",
     "text": [
      "[nltk_data] Downloading package stopwords to\n",
      "[nltk_data]     C:\\Users\\admin\\AppData\\Roaming\\nltk_data...\n",
      "[nltk_data]   Package stopwords is already up-to-date!\n"
     ]
    }
   ],
   "source": [
    "# Download stopwords Package to execute this command\n",
    "import nltk\n",
    "nltk.download('stopwords')\n",
    "from nltk.corpus import stopwords\n",
    "stopwords.words('english')\n",
    "print()"
   ]
  },
  {
   "cell_type": "code",
   "execution_count": 28,
   "id": "65778fc5",
   "metadata": {},
   "outputs": [],
   "source": [
    "# let conver all to lower case\n",
    "Test_punc_removed_join_clean = [word for word in test_joined.split() if word.lower() not in stopwords.words('english')]"
   ]
  },
  {
   "cell_type": "code",
   "execution_count": 29,
   "id": "b4340621",
   "metadata": {},
   "outputs": [
    {
     "data": {
      "text/plain": [
       "['Hello',\n",
       " 'Mr',\n",
       " 'Future',\n",
       " 'beginner',\n",
       " 'learner',\n",
       " 'field',\n",
       " 'Machine',\n",
       " 'Learning']"
      ]
     },
     "execution_count": 29,
     "metadata": {},
     "output_type": "execute_result"
    }
   ],
   "source": [
    "Test_punc_removed_join_clean # Only important (no so common) words are left"
   ]
  },
  {
   "cell_type": "markdown",
   "id": "b5a45587",
   "metadata": {},
   "source": [
    "### 3.3 COUNT VECTORIZER EXAMPLE"
   ]
  },
  {
   "cell_type": "code",
   "execution_count": 30,
   "id": "95e91b74",
   "metadata": {},
   "outputs": [],
   "source": [
    "# IMPORT THE COUNT VECTORIZER LIBRARY\n",
    "from sklearn.feature_extraction.text import CountVectorizer\n",
    "sample_data = [' This is the first document.','This document is the second document.','And this is the third one.','Is this the first document?']\n",
    "\n",
    "vectorizer = CountVectorizer()\n",
    "X = vectorizer.fit_transform(sample_data)"
   ]
  },
  {
   "cell_type": "code",
   "execution_count": 31,
   "id": "ecb2009c",
   "metadata": {},
   "outputs": [
    {
     "name": "stdout",
     "output_type": "stream",
     "text": [
      "['and', 'document', 'first', 'is', 'one', 'second', 'the', 'third', 'this']\n"
     ]
    }
   ],
   "source": [
    "print(vectorizer.get_feature_names())"
   ]
  },
  {
   "cell_type": "code",
   "execution_count": 32,
   "id": "efb4b57c",
   "metadata": {},
   "outputs": [
    {
     "name": "stdout",
     "output_type": "stream",
     "text": [
      "[[0 1 1 1 0 0 1 0 1]\n",
      " [0 2 0 1 0 1 1 0 1]\n",
      " [1 0 0 1 1 0 1 1 1]\n",
      " [0 1 1 1 0 0 1 0 1]]\n"
     ]
    }
   ],
   "source": [
    "print(X.toarray())  "
   ]
  },
  {
   "cell_type": "markdown",
   "id": "76227e21",
   "metadata": {},
   "source": [
    "# 4. USING PIPELINE FOR APPLICATION "
   ]
  },
  {
   "cell_type": "markdown",
   "id": "fc261702",
   "metadata": {},
   "source": [
    "### 4.1 APPLYING THE PREVIOUSLY THREE PROCESS TO OUR SPAM OR HAM EXAMPLES"
   ]
  },
  {
   "cell_type": "code",
   "execution_count": 33,
   "id": "5b3fca4d",
   "metadata": {},
   "outputs": [],
   "source": [
    "# Define a pipeline to clean up all the messages \n",
    "# The pipeline performs the following: (1) remove punctuation, (2) remove stopwords\n",
    "\n",
    "def message_cleaning(message):\n",
    "    Test_punc_removed = [char for char in message if char not in string.punctuation]\n",
    "    Test_punc_removed_join = ''.join(Test_punc_removed)\n",
    "    Test_punc_removed_join_clean = [word for word in Test_punc_removed_join.split() if word.lower() not in stopwords.words('english')]\n",
    "    return Test_punc_removed_join_clean"
   ]
  },
  {
   "cell_type": "code",
   "execution_count": 34,
   "id": "ba277b9c",
   "metadata": {},
   "outputs": [],
   "source": [
    "# Test the newly added function\n",
    "spam_df_clean = df['text'].apply(message_cleaning)"
   ]
  },
  {
   "cell_type": "code",
   "execution_count": 35,
   "id": "6b5627ff",
   "metadata": {},
   "outputs": [
    {
     "name": "stdout",
     "output_type": "stream",
     "text": [
      "['Go', 'jurong', 'point', 'crazy', 'Available', 'bugis', 'n', 'great', 'world', 'la', 'e', 'buffet', 'Cine', 'got', 'amore', 'wat']\n"
     ]
    }
   ],
   "source": [
    "# Let print a message by cleaning\n",
    "print(spam_df_clean[0])"
   ]
  },
  {
   "cell_type": "code",
   "execution_count": 36,
   "id": "d6503028",
   "metadata": {},
   "outputs": [
    {
     "name": "stdout",
     "output_type": "stream",
     "text": [
      "Go until jurong point, crazy.. Available only in bugis n great world la e buffet... Cine there got amore wat...\n"
     ]
    }
   ],
   "source": [
    "# Original message without any filter\n",
    "print(df['text'][0])"
   ]
  },
  {
   "cell_type": "markdown",
   "id": "8f2d8f54",
   "metadata": {},
   "source": [
    "# 5. APPLYING COUNT VECTORIZER TO OUR MESSAGE LIST"
   ]
  },
  {
   "cell_type": "code",
   "execution_count": 37,
   "id": "cbb8cde3",
   "metadata": {},
   "outputs": [],
   "source": [
    "# IMPORT LIBRARY \n",
    "from sklearn.feature_extraction.text import CountVectorizer\n",
    "\n",
    "# Define the cleaning pipeline we defined earlier\n",
    "vectorizer = CountVectorizer(analyzer = message_cleaning)\n",
    "\n",
    "# PASSING OUR Texts \n",
    "spamham_countvectorizer = vectorizer.fit_transform(df['text'])"
   ]
  },
  {
   "cell_type": "code",
   "execution_count": 73,
   "id": "b00ae7f2",
   "metadata": {},
   "outputs": [],
   "source": [
    "#print(vectorizer.get_feature_names())\n"
   ]
  },
  {
   "cell_type": "code",
   "execution_count": 39,
   "id": "19a783b4",
   "metadata": {},
   "outputs": [
    {
     "name": "stdout",
     "output_type": "stream",
     "text": [
      "[[0 0 0 ... 0 0 0]\n",
      " [0 0 0 ... 0 0 0]\n",
      " [0 0 0 ... 0 0 0]\n",
      " ...\n",
      " [0 0 0 ... 0 0 0]\n",
      " [0 0 0 ... 0 0 0]\n",
      " [0 0 0 ... 0 0 0]]\n"
     ]
    }
   ],
   "source": [
    "print(spamham_countvectorizer.toarray())"
   ]
  },
  {
   "cell_type": "code",
   "execution_count": 40,
   "id": "cd68957a",
   "metadata": {},
   "outputs": [
    {
     "data": {
      "text/plain": [
       "(5574, 11401)"
      ]
     },
     "execution_count": 40,
     "metadata": {},
     "output_type": "execute_result"
    }
   ],
   "source": [
    "spamham_countvectorizer.shape"
   ]
  },
  {
   "cell_type": "markdown",
   "id": "41e0ab5a",
   "metadata": {},
   "source": [
    "# 6. TRAINING THE MODEL WITH ALL DATASET"
   ]
  },
  {
   "cell_type": "markdown",
   "id": "f0b06016",
   "metadata": {},
   "source": [
    "### 6.1 USING NAIVE BAYES MULTINOMIALNB METHOD"
   ]
  },
  {
   "cell_type": "code",
   "execution_count": 41,
   "id": "0bd36765",
   "metadata": {
    "scrolled": true
   },
   "outputs": [
    {
     "data": {
      "text/plain": [
       "MultinomialNB()"
      ]
     },
     "execution_count": 41,
     "metadata": {},
     "output_type": "execute_result"
    }
   ],
   "source": [
    "# Importing library multinomialDB from naive bayes\n",
    "from sklearn.naive_bayes import MultinomialNB\n",
    "\n",
    "NB_classifier = MultinomialNB()\n",
    "label = df['type'].values\n",
    "NB_classifier.fit(spamham_countvectorizer, label)"
   ]
  },
  {
   "cell_type": "code",
   "execution_count": 42,
   "id": "e1db8b19",
   "metadata": {},
   "outputs": [],
   "source": [
    "# testing_sample = ['Free money!!!', \"Hi Kim, Please let me know if you need any further information. Thanks\"]\n",
    "testing_sample = [\"\"\"'Free money!!!', \"Hi Kim, Please let me know if you need any further information. Thanks\"\"\",\"\"\"Free entry in 2 a wkly comp to win FA Cup final tkts 21st May 2005. Text FA to 87121 to receive entry question(std txt rate)T&C's apply 08452810075over18's\"\"\"]\n",
    "\n",
    "testing_sample_countvectorizer = vectorizer.transform(testing_sample)\n"
   ]
  },
  {
   "cell_type": "code",
   "execution_count": 43,
   "id": "81f74b0b",
   "metadata": {},
   "outputs": [
    {
     "data": {
      "text/plain": [
       "array(['ham', 'spam'], dtype='<U4')"
      ]
     },
     "execution_count": 43,
     "metadata": {},
     "output_type": "execute_result"
    }
   ],
   "source": [
    "# PREDECTING ABOVE TEXT WAS HAM/SPAM \n",
    "test_predict = NB_classifier.predict(testing_sample_countvectorizer)\n",
    "test_predict"
   ]
  },
  {
   "cell_type": "code",
   "execution_count": 44,
   "id": "30c9c5de",
   "metadata": {},
   "outputs": [],
   "source": [
    "# Mini Challenge!\n",
    "testing_sample = ['Hello, I am Ryan, I would like to book a hotel in Bali by January 24th', 'money viagara!!!!!']\n"
   ]
  },
  {
   "cell_type": "code",
   "execution_count": 45,
   "id": "2d76c656",
   "metadata": {},
   "outputs": [
    {
     "data": {
      "text/plain": [
       "array(['ham', 'ham'], dtype='<U4')"
      ]
     },
     "execution_count": 45,
     "metadata": {},
     "output_type": "execute_result"
    }
   ],
   "source": [
    "testing_sample = ['money viagara!!!!!', \"Hello, I am Ryan, I would like to book a hotel in SF by January 24th\"]\n",
    "testing_sample_countvectorizer = vectorizer.transform(testing_sample)\n",
    "test_predict = NB_classifier.predict(testing_sample_countvectorizer)\n",
    "test_predict"
   ]
  },
  {
   "cell_type": "markdown",
   "id": "acf0a967",
   "metadata": {},
   "source": [
    "# 7. DIVIDEING THE DATA INTO TRAINING AND TESTING PRIOR TO TRAINING"
   ]
  },
  {
   "cell_type": "code",
   "execution_count": 46,
   "id": "25eaf543",
   "metadata": {},
   "outputs": [],
   "source": [
    "x = spamham_countvectorizer\n",
    "y = label"
   ]
  },
  {
   "cell_type": "code",
   "execution_count": 47,
   "id": "9d190a35",
   "metadata": {},
   "outputs": [
    {
     "data": {
      "text/plain": [
       "(5574, 11401)"
      ]
     },
     "execution_count": 47,
     "metadata": {},
     "output_type": "execute_result"
    }
   ],
   "source": [
    "# x will always required 2d \n",
    "x.shape"
   ]
  },
  {
   "cell_type": "code",
   "execution_count": 48,
   "id": "99859bc0",
   "metadata": {},
   "outputs": [
    {
     "data": {
      "text/plain": [
       "(5574,)"
      ]
     },
     "execution_count": 48,
     "metadata": {},
     "output_type": "execute_result"
    }
   ],
   "source": [
    "# y is our target colum in 1d\n",
    "y.shape"
   ]
  },
  {
   "cell_type": "code",
   "execution_count": 49,
   "id": "47f98c6e",
   "metadata": {},
   "outputs": [],
   "source": [
    "# splitinhg the data as test and train data\n",
    "from sklearn.model_selection import train_test_split\n",
    "xtrain,xtest,ytrain,ytest=train_test_split(x,y,test_size=0.2)"
   ]
  },
  {
   "cell_type": "code",
   "execution_count": 50,
   "id": "7cac09d7",
   "metadata": {},
   "outputs": [
    {
     "data": {
      "text/plain": [
       "MultinomialNB()"
      ]
     },
     "execution_count": 50,
     "metadata": {},
     "output_type": "execute_result"
    }
   ],
   "source": [
    "from sklearn.naive_bayes import MultinomialNB\n",
    "\n",
    "NB_classifier = MultinomialNB()\n",
    "NB_classifier.fit(xtrain, ytrain)"
   ]
  },
  {
   "cell_type": "markdown",
   "id": "6ed6e920",
   "metadata": {},
   "source": [
    "# 8. EVALUATING THE MODEL"
   ]
  },
  {
   "cell_type": "code",
   "execution_count": 51,
   "id": "ff60f2eb",
   "metadata": {},
   "outputs": [],
   "source": [
    "# this library help to make a classificaion reports\n",
    "from sklearn.metrics import classification_report, confusion_matrix"
   ]
  },
  {
   "cell_type": "markdown",
   "id": "9d5a33ca",
   "metadata": {},
   "source": [
    "###  8.1 PREDECTING DATA ON TRAIN DATA BY USING CONFUSION MATRIX"
   ]
  },
  {
   "cell_type": "code",
   "execution_count": 52,
   "id": "0c6a0f75",
   "metadata": {},
   "outputs": [
    {
     "data": {
      "text/plain": [
       "<AxesSubplot:>"
      ]
     },
     "execution_count": 52,
     "metadata": {},
     "output_type": "execute_result"
    },
    {
     "data": {
      "image/png": "[encoded data removed]",
      "text/plain": [
       "<Figure size 432x288 with 2 Axes>"
      ]
     },
     "metadata": {
      "needs_background": "light"
     },
     "output_type": "display_data"
    }
   ],
   "source": [
    "y_predict_train = NB_classifier.predict(xtrain)\n",
    "y_predict_train\n",
    "cm = confusion_matrix(ytrain, y_predict_train)\n",
    "sns.heatmap(cm, annot=True)"
   ]
  },
  {
   "cell_type": "markdown",
   "id": "3eac71bd",
   "metadata": {},
   "source": [
    "### 8.2 PREDECTING DATA ON TEST DATA BY USING CONFUSION MATRIX"
   ]
  },
  {
   "cell_type": "code",
   "execution_count": 53,
   "id": "614c1ad9",
   "metadata": {
    "scrolled": true
   },
   "outputs": [
    {
     "data": {
      "text/plain": [
       "<AxesSubplot:>"
      ]
     },
     "execution_count": 53,
     "metadata": {},
     "output_type": "execute_result"
    },
    {
     "data": {
      "image/png": "[encoded data removed]",
      "text/plain": [
       "<Figure size 432x288 with 2 Axes>"
      ]
     },
     "metadata": {
      "needs_background": "light"
     },
     "output_type": "display_data"
    }
   ],
   "source": [
    "# Predicting the Test set results\n",
    "y_predict_test = NB_classifier.predict(xtest)\n",
    "cm = confusion_matrix(ytest, y_predict_test)\n",
    "sns.heatmap(cm, annot=True)"
   ]
  },
  {
   "cell_type": "code",
   "execution_count": 54,
   "id": "9e13d1f3",
   "metadata": {},
   "outputs": [
    {
     "data": {
      "text/plain": [
       "array([[936,  27],\n",
       "       [  7, 145]], dtype=int64)"
      ]
     },
     "execution_count": 54,
     "metadata": {},
     "output_type": "execute_result"
    }
   ],
   "source": [
    "cm"
   ]
  },
  {
   "cell_type": "code",
   "execution_count": 55,
   "id": "1421efba",
   "metadata": {},
   "outputs": [
    {
     "name": "stdout",
     "output_type": "stream",
     "text": [
      "NB Classifier Accuracy on test data 96.95\n",
      "              precision    recall  f1-score   support\n",
      "\n",
      "         ham       0.99      0.97      0.98       963\n",
      "        spam       0.84      0.95      0.90       152\n",
      "\n",
      "    accuracy                           0.97      1115\n",
      "   macro avg       0.92      0.96      0.94      1115\n",
      "weighted avg       0.97      0.97      0.97      1115\n",
      "\n",
      "The accuracy achieved from NB Classifier on test data is : 96.95\n",
      "\n",
      "\n"
     ]
    }
   ],
   "source": [
    "# Printing a classification report\n",
    "\n",
    "nbaccuracy = round(accuracy_score(ytest, y_predict_test) * 100, 2)\n",
    "print(f'NB Classifier Accuracy on test data {nbaccuracy}')\n",
    "print(classification_report(ytest, y_predict_test))\n",
    "print(f'The accuracy achieved from NB Classifier on test data is : {nbaccuracy}\\n\\n')\n"
   ]
  },
  {
   "cell_type": "markdown",
   "id": "2a87fd46",
   "metadata": {},
   "source": [
    "# 9. LET'S ADD ADDITIONAL FEATURE TF-IDF"
   ]
  },
  {
   "cell_type": "code",
   "execution_count": 56,
   "id": "405d924a",
   "metadata": {},
   "outputs": [
    {
     "data": {
      "text/plain": [
       "<5574x11401 sparse matrix of type '<class 'numpy.int64'>'\n",
       "\twith 50544 stored elements in Compressed Sparse Row format>"
      ]
     },
     "execution_count": 56,
     "metadata": {},
     "output_type": "execute_result"
    }
   ],
   "source": [
    "spamham_countvectorizer"
   ]
  },
  {
   "cell_type": "code",
   "execution_count": 57,
   "id": "18573995",
   "metadata": {},
   "outputs": [
    {
     "name": "stdout",
     "output_type": "stream",
     "text": [
      "(5574, 11401)\n"
     ]
    }
   ],
   "source": [
    "from sklearn.feature_extraction.text import TfidfTransformer\n",
    "\n",
    "emails_tfidf = TfidfTransformer().fit_transform(spamham_countvectorizer)\n",
    "print(emails_tfidf.shape)"
   ]
  },
  {
   "cell_type": "code",
   "execution_count": 74,
   "id": "2d06dd4f",
   "metadata": {},
   "outputs": [],
   "source": [
    "#print(emails_tfidf[:,:])\n",
    "# Sparse matrix with all the values of IF-IDF"
   ]
  },
  {
   "cell_type": "code",
   "execution_count": 59,
   "id": "d140a8cd",
   "metadata": {},
   "outputs": [
    {
     "data": {
      "text/plain": [
       "<AxesSubplot:>"
      ]
     },
     "execution_count": 59,
     "metadata": {},
     "output_type": "execute_result"
    },
    {
     "data": {
      "image/png": "[encoded data removed]",
      "text/plain": [
       "<Figure size 432x288 with 2 Axes>"
      ]
     },
     "metadata": {
      "needs_background": "light"
     },
     "output_type": "display_data"
    }
   ],
   "source": [
    "X = emails_tfidf\n",
    "y = label\n",
    "\n",
    "from sklearn.model_selection import train_test_split\n",
    "X_train, X_test, y_train, y_test = train_test_split(X, y, test_size=0.2)\n",
    "\n",
    "from sklearn.naive_bayes import MultinomialNB\n",
    "NB_classifier = MultinomialNB()\n",
    "NB_classifier.fit(X_train, y_train)\n",
    "\n",
    "from sklearn.metrics import classification_report, confusion_matrix\n",
    "y_predict_train = NB_classifier.predict(X_train)\n",
    "y_predict_train\n",
    "cm = confusion_matrix(y_train, y_predict_train)\n",
    "sns.heatmap(cm, annot=True)"
   ]
  },
  {
   "cell_type": "code",
   "execution_count": 60,
   "id": "14263592",
   "metadata": {},
   "outputs": [
    {
     "name": "stdout",
     "output_type": "stream",
     "text": [
      "NB Classifier Accuracy 74.62\n",
      "              precision    recall  f1-score   support\n",
      "\n",
      "         ham       0.86      0.84      0.85       962\n",
      "        spam       0.12      0.14      0.13       153\n",
      "\n",
      "    accuracy                           0.75      1115\n",
      "   macro avg       0.49      0.49      0.49      1115\n",
      "weighted avg       0.76      0.75      0.75      1115\n",
      "\n",
      "The accuracy achieved from NB Classifier on test data is : 74.62\n",
      "\n",
      "\n"
     ]
    }
   ],
   "source": [
    "NB_classifier_accuracy = round(accuracy_score(y_test, y_predict_test) * 100, 2)\n",
    "print(f'NB Classifier Accuracy {NB_classifier_accuracy}')\n",
    "print(classification_report(y_test, y_predict_test))\n",
    "print(f'The accuracy achieved from NB Classifier on test data is : {NB_classifier_accuracy}\\n\\n')\n"
   ]
  },
  {
   "cell_type": "markdown",
   "id": "641bc96f",
   "metadata": {},
   "source": [
    "# 10. MODEL TRAINING BY USING MACHINE LEARNING ALGORITHM"
   ]
  },
  {
   "cell_type": "markdown",
   "id": "9ac21ca6",
   "metadata": {},
   "source": [
    "### 10.1 - Finding the Accuracy of data by using Logistic Regression"
   ]
  },
  {
   "cell_type": "code",
   "execution_count": 61,
   "id": "da2dfff3",
   "metadata": {},
   "outputs": [
    {
     "data": {
      "text/plain": [
       "LogisticRegression(random_state=42)"
      ]
     },
     "execution_count": 61,
     "metadata": {},
     "output_type": "execute_result"
    }
   ],
   "source": [
    "# Logistic Regression\n",
    "from sklearn.linear_model import LogisticRegression\n",
    "\n",
    "logistic_regression_model = LogisticRegression(random_state=42)\n",
    "logistic_regression_model.fit(xtrain, ytrain)"
   ]
  },
  {
   "cell_type": "code",
   "execution_count": 62,
   "id": "2156c150",
   "metadata": {},
   "outputs": [
    {
     "name": "stdout",
     "output_type": "stream",
     "text": [
      "Logistic Regression accuracy 97.49\n",
      "              precision    recall  f1-score   support\n",
      "\n",
      "         ham       0.97      1.00      0.99       963\n",
      "        spam       1.00      0.82      0.90       152\n",
      "\n",
      "    accuracy                           0.97      1115\n",
      "   macro avg       0.99      0.91      0.94      1115\n",
      "weighted avg       0.98      0.97      0.97      1115\n",
      "\n",
      "The accuracy achieved from Logistic Regression is : 97.49\n",
      "\n",
      "\n"
     ]
    }
   ],
   "source": [
    "y_pred = logistic_regression_model.predict(xtest)\n",
    "acc_logreg = round(accuracy_score(y_pred, ytest) * 100, 2)\n",
    "print(f'Logistic Regression accuracy {acc_logreg}')\n",
    "print(classification_report(ytest,y_pred))                 #printing the report of classification\n",
    "print(f'The accuracy achieved from Logistic Regression is : {acc_logreg}\\n\\n')"
   ]
  },
  {
   "cell_type": "markdown",
   "id": "474f525a",
   "metadata": {},
   "source": [
    "### 10.2 - Finding the Accuracy of data by using Decission Tree Classifier"
   ]
  },
  {
   "cell_type": "code",
   "execution_count": 63,
   "id": "643adcec",
   "metadata": {},
   "outputs": [
    {
     "data": {
      "text/plain": [
       "DecisionTreeClassifier(random_state=42)"
      ]
     },
     "execution_count": 63,
     "metadata": {},
     "output_type": "execute_result"
    }
   ],
   "source": [
    "#Decision Tree\n",
    "from sklearn.tree import DecisionTreeClassifier\n",
    "\n",
    "decisiontree_model = DecisionTreeClassifier(random_state=42)\n",
    "decisiontree_model.fit(xtrain, ytrain)"
   ]
  },
  {
   "cell_type": "code",
   "execution_count": 64,
   "id": "9b17a32e",
   "metadata": {},
   "outputs": [
    {
     "name": "stdout",
     "output_type": "stream",
     "text": [
      "Decision Tree Classifier accuracy  96.95\n",
      "              precision    recall  f1-score   support\n",
      "\n",
      "         ham       0.98      0.99      0.98       963\n",
      "        spam       0.92      0.85      0.88       152\n",
      "\n",
      "    accuracy                           0.97      1115\n",
      "   macro avg       0.95      0.92      0.93      1115\n",
      "weighted avg       0.97      0.97      0.97      1115\n",
      "\n",
      "The accuracy achieved from Decision Tree Classifier is : 96.95\n",
      "\n",
      "\n"
     ]
    }
   ],
   "source": [
    "y_pred = decisiontree_model.predict(xtest)\n",
    "acc_decisiontree = round(accuracy_score(ytest,y_pred) * 100, 2)\n",
    "print(f'Decision Tree Classifier accuracy {acc_decisiontree: .2f}')\n",
    "print(classification_report(ytest, y_pred))\n",
    "print(f'The accuracy achieved from Decision Tree Classifier is : {acc_decisiontree}\\n\\n')"
   ]
  },
  {
   "cell_type": "markdown",
   "id": "96f535ee",
   "metadata": {},
   "source": [
    "### 10.3 - Finding the Accuracy of data by using Random Forest Classifier"
   ]
  },
  {
   "cell_type": "code",
   "execution_count": 65,
   "id": "2ecee8a3",
   "metadata": {},
   "outputs": [
    {
     "data": {
      "text/plain": [
       "RandomForestClassifier(random_state=42)"
      ]
     },
     "execution_count": 65,
     "metadata": {},
     "output_type": "execute_result"
    }
   ],
   "source": [
    "# Random Forest\n",
    "from sklearn.ensemble import RandomForestClassifier\n",
    "\n",
    "random_forest_model = RandomForestClassifier(random_state=42)\n",
    "random_forest_model.fit(xtrain, ytrain)"
   ]
  },
  {
   "cell_type": "code",
   "execution_count": 66,
   "id": "f1e28fbd",
   "metadata": {},
   "outputs": [
    {
     "name": "stdout",
     "output_type": "stream",
     "text": [
      "Random Forest Classifier Accuracy: 0.97\n",
      "              precision    recall  f1-score   support\n",
      "\n",
      "         ham       0.96      1.00      0.98       963\n",
      "        spam       1.00      0.75      0.86       152\n",
      "\n",
      "    accuracy                           0.97      1115\n",
      "   macro avg       0.98      0.88      0.92      1115\n",
      "weighted avg       0.97      0.97      0.96      1115\n",
      "\n",
      "The accuracy achieved from Random Forest Classifier is : 96.59192825112108\n",
      "\n",
      "\n"
     ]
    }
   ],
   "source": [
    "predictions = random_forest_model.predict(xtest)\n",
    "ranfor_accuracy = accuracy_score(ytest, predictions)\n",
    "print(f\"Random Forest Classifier Accuracy: {ranfor_accuracy:.2f}\")\n",
    "print(classification_report(ytest, predictions))\n",
    "print(f'The accuracy achieved from Random Forest Classifier is : {ranfor_accuracy*100}\\n\\n')"
   ]
  },
  {
   "cell_type": "markdown",
   "id": "b9a27ec3",
   "metadata": {},
   "source": [
    "### 10.4 - Finding the Accuracy of data by using Encemble Learning - Ada Boost Classifier"
   ]
  },
  {
   "cell_type": "code",
   "execution_count": 67,
   "id": "8081ed6d",
   "metadata": {},
   "outputs": [
    {
     "name": "stdout",
     "output_type": "stream",
     "text": [
      "Ada Boost Accuracy: 96.59\n",
      "              precision    recall  f1-score   support\n",
      "\n",
      "         ham       0.96      1.00      0.98       963\n",
      "        spam       0.97      0.77      0.86       152\n",
      "\n",
      "    accuracy                           0.97      1115\n",
      "   macro avg       0.97      0.88      0.92      1115\n",
      "weighted avg       0.97      0.97      0.96      1115\n",
      "\n",
      "The accuracy achieved from Ada Boost Classifier is : 96.59192825112108\n",
      "\n",
      "\n"
     ]
    }
   ],
   "source": [
    "from sklearn.ensemble import AdaBoostClassifier\n",
    "ada = AdaBoostClassifier()\n",
    "ada.fit(xtrain,ytrain)\n",
    "ypred = ada.predict(xtest)\n",
    "ada_boost_accuracy = accuracy_score(ytest, ypred)\n",
    "print(f'Ada Boost Accuracy: {ada_boost_accuracy*100:.2f}')\n",
    "print(classification_report(ytest,ypred))\n",
    "print(f'The accuracy achieved from Ada Boost Classifier is : {ada_boost_accuracy*100}\\n\\n')"
   ]
  },
  {
   "cell_type": "markdown",
   "id": "9bf0601e",
   "metadata": {},
   "source": [
    "### 10.5 - Predicting by using Naive Bayes classifier"
   ]
  },
  {
   "cell_type": "code",
   "execution_count": 68,
   "id": "83e322ea",
   "metadata": {},
   "outputs": [
    {
     "name": "stdout",
     "output_type": "stream",
     "text": [
      "The accuracy achieved from Ada Boost Classifier is : 96.59192825112108\n",
      "\n",
      "\n",
      "\n",
      "Confusion Matrix:\n",
      " [[960   3]\n",
      " [ 35 117]]\n",
      "\n",
      "Classification Report:\n",
      "               precision    recall  f1-score   support\n",
      "\n",
      "         ham       0.96      1.00      0.98       963\n",
      "        spam       0.97      0.77      0.86       152\n",
      "\n",
      "    accuracy                           0.97      1115\n",
      "   macro avg       0.97      0.88      0.92      1115\n",
      "weighted avg       0.97      0.97      0.96      1115\n",
      "\n",
      "The accuracy achieved from Naive Bayes Classifier is : 96.59192825112108\n",
      "\n",
      "\n"
     ]
    }
   ],
   "source": [
    "from sklearn.metrics import accuracy_score, classification_report, confusion_matrix\n",
    "\n",
    "accuracy = accuracy_score(ytest, ypred)\n",
    "conf_matrix = confusion_matrix(ytest, ypred)\n",
    "classification_rep = classification_report(ytest, ypred)\n",
    "print(f'The accuracy achieved from Ada Boost Classifier is : {accuracy*100}\\n\\n')\n",
    "print(\"\\nConfusion Matrix:\\n\", conf_matrix)\n",
    "print(\"\\nClassification Report:\\n\", classification_rep)\n",
    "print(f'The accuracy achieved from Naive Bayes Classifier is : {accuracy*100}\\n\\n')\n"
   ]
  },
  {
   "cell_type": "markdown",
   "id": "a1059a5d",
   "metadata": {},
   "source": [
    "### we got the accuracy of different modules of classifier"
   ]
  },
  {
   "cell_type": "code",
   "execution_count": 69,
   "id": "273f88e7",
   "metadata": {},
   "outputs": [
    {
     "name": "stdout",
     "output_type": "stream",
     "text": [
      "The accuracy achieved from NB Classifier on test data is : 74.62\n",
      "\n",
      "The accuracy achieved from NB Classifier on train data is : 96.95\n",
      "\n",
      "The accuracy achieved from Logistic Regression is : 97.49\n",
      "\n",
      "The accuracy achieved from Decision Tree Classifier is : 96.95\n",
      "\n",
      "The accuracy achieved from Random Forest Classifier is : 96.59192825112108\n",
      "\n",
      "The accuracy achieved from Ada Boost Classifier is : 96.59192825112108\n",
      "\n",
      "The accuracy achieved from Naive Bayes Classifier is : 96.59192825112108\n",
      "\n"
     ]
    }
   ],
   "source": [
    "print(f'The accuracy achieved from NB Classifier on test data is : {NB_classifier_accuracy}\\n')\n",
    "print(f'The accuracy achieved from NB Classifier on train data is : {nbaccuracy}\\n')\n",
    "print(f'The accuracy achieved from Logistic Regression is : {acc_logreg}\\n')\n",
    "print(f'The accuracy achieved from Decision Tree Classifier is : {acc_decisiontree}\\n')\n",
    "print(f'The accuracy achieved from Random Forest Classifier is : {ranfor_accuracy*100}\\n')\n",
    "print(f'The accuracy achieved from Ada Boost Classifier is : {ada_boost_accuracy*100}\\n')\n",
    "print(f'The accuracy achieved from Naive Bayes Classifier is : {accuracy*100}\\n')\n"
   ]
  },
  {
   "cell_type": "markdown",
   "id": "2c84a690",
   "metadata": {},
   "source": [
    "# CONCLUSION"
   ]
  },
  {
   "cell_type": "code",
   "execution_count": 70,
   "id": "27d6c6ff",
   "metadata": {},
   "outputs": [
    {
     "name": "stdout",
     "output_type": "stream",
     "text": [
      "*****************************************************************************************************************************\n",
      " As we see during the prediction the accuracy achieved from Logistic Regression classifiern is 97.49 Which was much good as compare to another, So we can go throung Logistic Regression modules for prediction\n",
      "*****************************************************************************************************************************\n",
      "\tBased on the above accuracy scores, we should go ahead with \n",
      "\n",
      "NB Classifier on test data is : 74.62,\n",
      "\n",
      "NB Classifier on train data is : 96.95,\n",
      "\n",
      "Logistic Regression :97.49,\n",
      "\n",
      "Decision Tree Classifier : 96.95,\n",
      "\n",
      "Random Forest Classifier : 96.59192825112108,\n",
      "\n",
      "Accuracy with Ada Boost Classifier : 96.59192825112108\n",
      "\n",
      "Accuracy with Naive Bayes Classifier : 96.59192825112108\n",
      "\n",
      " The best predictive model for the above dataset is Logistic Regression Classifier and its Accuracy is 97.49. So Logistic Regression Classifier is best for Spam and Ham message classification \n",
      "*****************************************************************************************************************************\n",
      "*****************************************************************************************************************************\n"
     ]
    }
   ],
   "source": [
    "print((\"*\")*125)\n",
    "print(f' As we see during the prediction the accuracy achieved from Logistic Regression classifiern is {acc_logreg} Which was much good as compare to another, So we can go throung Logistic Regression modules for prediction')\n",
    "print((\"*\")*125)\n",
    "print(f\"\\tBased on the above accuracy scores, we should go ahead with \\n\\nNB Classifier on test data is : {NB_classifier_accuracy},\\n\\nNB Classifier on train data is : {nbaccuracy},\\n\\nLogistic Regression :{acc_logreg},\\n\\nDecision Tree Classifier : {acc_decisiontree},\\n\\nRandom Forest Classifier : {ranfor_accuracy*100},\\n\\nAccuracy with Ada Boost Classifier : {ada_boost_accuracy*100}\\n\\nAccuracy with Naive Bayes Classifier : {accuracy*100}\\n\\n The best predictive model for the above dataset is Logistic Regression Classifier and its Accuracy is {acc_logreg}. So Logistic Regression Classifier is best for Spam and Ham message classification \")\n",
    "print((\"*\")*125)\n",
    "\n",
    "print((\"*\")*125)\n"
   ]
  },
  {
   "cell_type": "code",
   "execution_count": null,
   "id": "fa35dcb6",
   "metadata": {},
   "outputs": [],
   "source": []
  },
  {
   "cell_type": "code",
   "execution_count": null,
   "id": "70529c92",
   "metadata": {},
   "outputs": [],
   "source": []
  }
 ],
 "metadata": {
  "kernelspec": {
   "display_name": "Python 3 (ipykernel)",
   "language": "python",
   "name": "python3"
  },
  "language_info": {
   "codemirror_mode": {
    "name": "ipython",
    "version": 3
   },
   "file_extension": ".py",
   "mimetype": "text/x-python",
   "name": "python",
   "nbconvert_exporter": "python",
   "pygments_lexer": "ipython3",
   "version": "3.9.12"
  }
 },
 "nbformat": 4,
 "nbformat_minor": 5
}
